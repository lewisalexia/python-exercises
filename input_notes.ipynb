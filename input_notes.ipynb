{
 "cells": [
  {
   "cell_type": "code",
   "execution_count": 6,
   "id": "85dfd766",
   "metadata": {},
   "outputs": [
    {
     "name": "stdout",
     "output_type": "stream",
     "text": [
      "give me the day of the week: MonDAy\n",
      "monday\n",
      "today is monday\n"
     ]
    }
   ],
   "source": [
    "# 1.\n",
    "day = input(\"give me the day of the week: \")\n",
    "day = day.lower()\n",
    "\n",
    "print(day)\n",
    "\n",
    "if day == \"monday\":\n",
    "    print(\"today is monday\")\n",
    "else:\n",
    "    print(\"today is not monday\")"
   ]
  },
  {
   "cell_type": "code",
   "execution_count": 10,
   "id": "35935d30",
   "metadata": {},
   "outputs": [
    {
     "name": "stdout",
     "output_type": "stream",
     "text": [
      "give me the day of the week: saturday\n",
      "saturday\n",
      "this is not the weekend\n"
     ]
    }
   ],
   "source": [
    "# 2.\n",
    "day2 = input(\"give me the day of the week: \")\n",
    "\n",
    "print(day2)\n",
    "\n",
    "weekend = [\"saturday\", \"sunday\"]\n",
    "\n",
    "if day.lower() in weekend:\n",
    "    print(\"this is the weekend\")\n",
    "else:\n",
    "    print(\"this is not the weekend\")"
   ]
  },
  {
   "cell_type": "code",
   "execution_count": null,
   "id": "d15b615d",
   "metadata": {},
   "outputs": [],
   "source": []
  }
 ],
 "metadata": {
  "kernelspec": {
   "display_name": "Python 3 (ipykernel)",
   "language": "python",
   "name": "python3"
  },
  "language_info": {
   "codemirror_mode": {
    "name": "ipython",
    "version": 3
   },
   "file_extension": ".py",
   "mimetype": "text/x-python",
   "name": "python",
   "nbconvert_exporter": "python",
   "pygments_lexer": "ipython3",
   "version": "3.9.13"
  }
 },
 "nbformat": 4,
 "nbformat_minor": 5
}

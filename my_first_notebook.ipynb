{
 "cells": [
  {
   "cell_type": "code",
   "execution_count": 1,
   "id": "20207004",
   "metadata": {},
   "outputs": [],
   "source": [
    "# First, we need to know that they are 2 modes in the Jupyter Notebook App: \n",
    "# command mode and edit mode."
   ]
  },
  {
   "cell_type": "code",
   "execution_count": 3,
   "id": "1dae08c6",
   "metadata": {},
   "outputs": [],
   "source": [
    "# These work in both modes!\n",
    "\n",
    "# Shift + Enter run the current cell, select below\n",
    "# Command + Enter run selected cells\n",
    "# Option + Enter run the current cell, insert below\n",
    "# Command + S save and checkpoint\n",
    "\n",
    "# documentation: https://towardsdatascience.com/jypyter-notebook-shortcuts-bf0101a98330"
   ]
  },
  {
   "cell_type": "code",
   "execution_count": 6,
   "id": "e2c21721",
   "metadata": {},
   "outputs": [
    {
     "name": "stdout",
     "output_type": "stream",
     "text": [
      "Hello World!\n"
     ]
    }
   ],
   "source": [
    "print (\"Hello World!\")"
   ]
  },
  {
   "cell_type": "code",
   "execution_count": 7,
   "id": "dbc40ee9",
   "metadata": {},
   "outputs": [],
   "source": [
    "greeting = (\"Hello World!\")"
   ]
  },
  {
   "cell_type": "code",
   "execution_count": 8,
   "id": "a55bcde6",
   "metadata": {},
   "outputs": [
    {
     "data": {
      "text/plain": [
       "'Hello World!'"
      ]
     },
     "execution_count": 8,
     "metadata": {},
     "output_type": "execute_result"
    }
   ],
   "source": [
    "greeting"
   ]
  }
 ],
 "metadata": {
  "kernelspec": {
   "display_name": "Python 3 (ipykernel)",
   "language": "python",
   "name": "python3"
  },
  "language_info": {
   "codemirror_mode": {
    "name": "ipython",
    "version": 3
   },
   "file_extension": ".py",
   "mimetype": "text/x-python",
   "name": "python",
   "nbconvert_exporter": "python",
   "pygments_lexer": "ipython3",
   "version": "3.9.13"
  }
 },
 "nbformat": 4,
 "nbformat_minor": 5
}

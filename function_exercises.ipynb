{
 "cells": [
  {
   "cell_type": "code",
   "execution_count": 1,
   "id": "6082dd24",
   "metadata": {},
   "outputs": [],
   "source": [
    "vowel_list = ['a','e','i','o','u']"
   ]
  },
  {
   "cell_type": "markdown",
   "id": "68f03d87",
   "metadata": {},
   "source": [
    "Define a function named is_two. It should accept one input and return True if the passed input is either the number or the string 2, False otherwise."
   ]
  },
  {
   "cell_type": "code",
   "execution_count": 2,
   "id": "52cc17f5",
   "metadata": {
    "scrolled": true
   },
   "outputs": [
    {
     "data": {
      "text/plain": [
       "True"
      ]
     },
     "execution_count": 2,
     "metadata": {},
     "output_type": "execute_result"
    }
   ],
   "source": [
    "def is_two(var1):\n",
    "    if var1 == str('2') or var1 == 2:\n",
    "        return True\n",
    "    else:\n",
    "        return False\n",
    "is_two(2)"
   ]
  },
  {
   "cell_type": "markdown",
   "id": "f9a66fce",
   "metadata": {},
   "source": [
    "Define a function named is_vowel. It should return True if the passed string is a vowel, False otherwise."
   ]
  },
  {
   "cell_type": "code",
   "execution_count": 38,
   "id": "ea115954",
   "metadata": {},
   "outputs": [],
   "source": [
    "vowel_list = ('a','e','i','o','u')\n",
    "def is_vowel(char):\n",
    "    return char.lower() in vowel_list"
   ]
  },
  {
   "cell_type": "code",
   "execution_count": 39,
   "id": "3b26261f",
   "metadata": {},
   "outputs": [
    {
     "data": {
      "text/plain": [
       "False"
      ]
     },
     "execution_count": 39,
     "metadata": {},
     "output_type": "execute_result"
    }
   ],
   "source": [
    "is_vowel('y')"
   ]
  },
  {
   "cell_type": "markdown",
   "id": "b629fde4",
   "metadata": {},
   "source": [
    "Define a function named is_consonant. It should return True if the passed string is a consonant, False otherwise. Use your is_vowel function to accomplish this."
   ]
  },
  {
   "cell_type": "code",
   "execution_count": 40,
   "id": "1b5ffaba",
   "metadata": {},
   "outputs": [],
   "source": [
    "def is_consonant(char):\n",
    "    return char.lower() not in vowel_list"
   ]
  },
  {
   "cell_type": "code",
   "execution_count": 41,
   "id": "a8532426",
   "metadata": {},
   "outputs": [
    {
     "data": {
      "text/plain": [
       "True"
      ]
     },
     "execution_count": 41,
     "metadata": {},
     "output_type": "execute_result"
    }
   ],
   "source": [
    "is_consonant('y')"
   ]
  },
  {
   "cell_type": "markdown",
   "id": "13563090",
   "metadata": {},
   "source": [
    "Define a function that accepts a string that is a word. The function should capitalize the first letter of the word if the word starts with a consonant."
   ]
  },
  {
   "cell_type": "code",
   "execution_count": 57,
   "id": "e3a31364",
   "metadata": {},
   "outputs": [],
   "source": [
    "def whole_word(string):\n",
    "    if type(string) == str:\n",
    "        if string.isalpha() == True:\n",
    "            if (string[0]).lower() not in vowel_list:\n",
    "                return string.capitalize()\n",
    "            else:\n",
    "                return False\n",
    "    else:\n",
    "        return False"
   ]
  },
  {
   "cell_type": "code",
   "execution_count": 64,
   "id": "c6f60727",
   "metadata": {
    "scrolled": true
   },
   "outputs": [
    {
     "data": {
      "text/plain": [
       "'People'"
      ]
     },
     "execution_count": 64,
     "metadata": {},
     "output_type": "execute_result"
    }
   ],
   "source": [
    "whole_word('peOPLE')"
   ]
  },
  {
   "cell_type": "markdown",
   "id": "52ce5451",
   "metadata": {},
   "source": [
    "Define a function named calculate_tip. It should accept a tip percentage (a number between 0 and 1) and the bill total, and return the amount to tip."
   ]
  },
  {
   "cell_type": "code",
   "execution_count": 70,
   "id": "b74b7a18",
   "metadata": {},
   "outputs": [],
   "source": [
    "def calculate_tip(subtotal,percentage=.2):\n",
    "    if percentage <= 0.9 and percentage >= 0.0:\n",
    "        return percentage * subtotal\n",
    "    else:\n",
    "        return (\"Error\")"
   ]
  },
  {
   "cell_type": "code",
   "execution_count": 72,
   "id": "1730f18d",
   "metadata": {},
   "outputs": [
    {
     "data": {
      "text/plain": [
       "12.0"
      ]
     },
     "execution_count": 72,
     "metadata": {},
     "output_type": "execute_result"
    }
   ],
   "source": [
    "calculate_tip(60)"
   ]
  },
  {
   "cell_type": "markdown",
   "id": "1c588f2d",
   "metadata": {},
   "source": [
    "Define a function named apply_discount. It should accept a original price, and a discount percentage, and return the price after the discount is applied."
   ]
  },
  {
   "cell_type": "code",
   "execution_count": 73,
   "id": "31429c5c",
   "metadata": {},
   "outputs": [],
   "source": [
    "def apply_discount(original_price,discount_percent):\n",
    "    return original_price - original_price * discount_percent"
   ]
  },
  {
   "cell_type": "code",
   "execution_count": 76,
   "id": "44cc4976",
   "metadata": {},
   "outputs": [
    {
     "data": {
      "text/plain": [
       "25.0"
      ]
     },
     "execution_count": 76,
     "metadata": {},
     "output_type": "execute_result"
    }
   ],
   "source": [
    "apply_discount(50,.5)"
   ]
  },
  {
   "cell_type": "markdown",
   "id": "ae92ca70",
   "metadata": {},
   "source": [
    "Define a function named handle_commas. It should accept a string that is a number that contains commas in it as input, and return a number as output."
   ]
  },
  {
   "cell_type": "code",
   "execution_count": 77,
   "id": "3b7e2d3d",
   "metadata": {},
   "outputs": [],
   "source": [
    "def handle_commas(string_int_commas):\n",
    "    return int(string_int_commas.replace(\",\",\"\"))"
   ]
  },
  {
   "cell_type": "code",
   "execution_count": 79,
   "id": "b78818a0",
   "metadata": {},
   "outputs": [
    {
     "data": {
      "text/plain": [
       "24554"
      ]
     },
     "execution_count": 79,
     "metadata": {},
     "output_type": "execute_result"
    }
   ],
   "source": [
    "handle_commas('24,554')"
   ]
  },
  {
   "cell_type": "markdown",
   "id": "be293ce8",
   "metadata": {},
   "source": [
    "Define a function named get_letter_grade. It should accept a number and return the letter grade associated with that number (A-F)."
   ]
  },
  {
   "cell_type": "code",
   "execution_count": 80,
   "id": "60c502b8",
   "metadata": {},
   "outputs": [],
   "source": [
    "def get_letter_grade(number):\n",
    "    if number >=90:\n",
    "        return(\"A\")\n",
    "    elif number >=80:\n",
    "        return(\"B\")\n",
    "    elif number >=70:\n",
    "        return(\"C\")\n",
    "    elif number >=60:\n",
    "        return(\"D\")\n",
    "    else:\n",
    "        return(\"F\")"
   ]
  },
  {
   "cell_type": "code",
   "execution_count": 81,
   "id": "2b530752",
   "metadata": {},
   "outputs": [
    {
     "data": {
      "text/plain": [
       "'B'"
      ]
     },
     "execution_count": 81,
     "metadata": {},
     "output_type": "execute_result"
    }
   ],
   "source": [
    "get_letter_grade(88)"
   ]
  },
  {
   "cell_type": "markdown",
   "id": "c77c70bc",
   "metadata": {},
   "source": [
    "Define a function named remove_vowels that accepts a string and returns a string with all the vowels removed."
   ]
  },
  {
   "cell_type": "code",
   "execution_count": 16,
   "id": "d4948c97",
   "metadata": {},
   "outputs": [],
   "source": [
    "def remove_vowels(bad_string):\n",
    "    for char in vowel_list:\n",
    "        bad_string = bad_string.replace(char,\"\")\n",
    "    return bad_string"
   ]
  },
  {
   "cell_type": "code",
   "execution_count": 84,
   "id": "f0dbc901",
   "metadata": {},
   "outputs": [
    {
     "data": {
      "text/plain": [
       "'ypp kyy'"
      ]
     },
     "execution_count": 84,
     "metadata": {},
     "output_type": "execute_result"
    }
   ],
   "source": [
    "remove_vowels('yippee kayay')"
   ]
  },
  {
   "cell_type": "markdown",
   "id": "7bc73ecd",
   "metadata": {},
   "source": [
    "Define a function named normalize_name. It should accept a string and return a valid python identifier, that is:\n",
    "\n",
    "* anything that is not a valid python identifier should be removed\n",
    "    * leading and trailing whitespace should be removed\n",
    "    * everything should be lowercase\n",
    "    * spaces should be replaced with underscores\n",
    "    * for example:\n",
    "        * Name will become name\n",
    "        * First Name will become first_name\n",
    "        * % Completed will become completed\n"
   ]
  },
  {
   "cell_type": "code",
   "execution_count": 90,
   "id": "3fc78149",
   "metadata": {},
   "outputs": [
    {
     "data": {
      "text/plain": [
       "'name_another&'"
      ]
     },
     "execution_count": 90,
     "metadata": {},
     "output_type": "execute_result"
    }
   ],
   "source": [
    "string = ' Name AnOTHER&  '\n",
    "string.strip().lower().replace(\" \",\"_\").replace(\"!@#$%^&*\",\"\")"
   ]
  },
  {
   "cell_type": "code",
   "execution_count": 159,
   "id": "7a7c3639",
   "metadata": {},
   "outputs": [],
   "source": [
    "def normalize_name(dirty_data):\n",
    "    for char in dirty_data:\n",
    "        strip_data = dirty_data.strip()\n",
    "        lwr_strip_data = strip_data.lower()\n",
    "        clean_data = lwr_strip_data.replace(\" \",\"_\",)\n",
    "        super_clean_data = clean_data.replace(\"!@#$%^&*\",\"\")\n",
    "        return super_clean_data.strip(\"_\")"
   ]
  },
  {
   "cell_type": "code",
   "execution_count": 160,
   "id": "b42c2c8d",
   "metadata": {},
   "outputs": [
    {
     "data": {
      "text/plain": [
       "'alexia_lewis_2'"
      ]
     },
     "execution_count": 160,
     "metadata": {},
     "output_type": "execute_result"
    }
   ],
   "source": [
    "normalize_name('  _AleXiA LeWiS 2 ' )"
   ]
  },
  {
   "cell_type": "markdown",
   "id": "9b98bf3c",
   "metadata": {},
   "source": [
    "Write a function named cumulative_sum that accepts a list of numbers and returns a list that is the cumulative sum of the numbers in the list.\n",
    "* cumulative_sum([1, 1, 1]) returns [1, 2, 3]\n",
    "* cumulative_sum([1, 2, 3, 4]) returns [1, 3, 6, 10]"
   ]
  },
  {
   "cell_type": "code",
   "execution_count": 20,
   "id": "060a92f4",
   "metadata": {},
   "outputs": [],
   "source": [
    "def cumulative_sum(random_list): \n",
    "    cu_list = []\n",
    "    length = len(random_list) \n",
    "    cu_list = [sum(random_list[0:x:1]) for x in range(0, length+1)] \n",
    "    return cu_list[1:]"
   ]
  },
  {
   "cell_type": "code",
   "execution_count": 21,
   "id": "d902f55f",
   "metadata": {
    "scrolled": true
   },
   "outputs": [
    {
     "data": {
      "text/plain": [
       "[1, 5, 10, 17, 21, 121]"
      ]
     },
     "execution_count": 21,
     "metadata": {},
     "output_type": "execute_result"
    }
   ],
   "source": [
    "random_list2 = [1,4,5,7,4,100]\n",
    "\n",
    "cumulative_sum(random_list2)"
   ]
  },
  {
   "cell_type": "markdown",
   "id": "1b98bc2c",
   "metadata": {},
   "source": [
    "https://gist.github.com/zgulde/ec8ed80ad8216905cda83d5645c60886\n",
    "for additional exercises"
   ]
  }
 ],
 "metadata": {
  "kernelspec": {
   "display_name": "Python 3 (ipykernel)",
   "language": "python",
   "name": "python3"
  },
  "language_info": {
   "codemirror_mode": {
    "name": "ipython",
    "version": 3
   },
   "file_extension": ".py",
   "mimetype": "text/x-python",
   "name": "python",
   "nbconvert_exporter": "python",
   "pygments_lexer": "ipython3",
   "version": "3.9.13"
  }
 },
 "nbformat": 4,
 "nbformat_minor": 5
}

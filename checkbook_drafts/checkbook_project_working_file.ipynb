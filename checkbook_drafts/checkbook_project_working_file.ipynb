{
 "cells": [
  {
   "cell_type": "code",
   "execution_count": null,
   "id": "d43062e9",
   "metadata": {},
   "outputs": [],
   "source": [
    "print(f\"Hi, my name is George. How may I help you today?\" )"
   ]
  },
  {
   "cell_type": "markdown",
   "id": "c7702821",
   "metadata": {},
   "source": [
    "## write and read files for history and balance"
   ]
  },
  {
   "cell_type": "markdown",
   "id": "db3df1d2",
   "metadata": {},
   "source": [
    "#### write to a file test"
   ]
  },
  {
   "cell_type": "code",
   "execution_count": null,
   "id": "b4e38cce",
   "metadata": {},
   "outputs": [],
   "source": [
    "import os # write\n",
    "import subprocess # run"
   ]
  },
  {
   "cell_type": "code",
   "execution_count": null,
   "id": "6d20dc66",
   "metadata": {},
   "outputs": [],
   "source": [
    "os.listdir() # checking the directory"
   ]
  },
  {
   "cell_type": "code",
   "execution_count": null,
   "id": "44268df2",
   "metadata": {},
   "outputs": [],
   "source": [
    "# with open('george_write.txt', 'a') as f: # appending not overwriting\n",
    "#     f.writelines('\\n today is thursday')"
   ]
  },
  {
   "cell_type": "code",
   "execution_count": null,
   "id": "9ecbfa10",
   "metadata": {},
   "outputs": [],
   "source": [
    "subprocess.run(['code', 'george_write.txt']) # verifying"
   ]
  },
  {
   "cell_type": "markdown",
   "id": "6f1b85d3",
   "metadata": {},
   "source": [
    "* check completed, test passed to writelines()"
   ]
  },
  {
   "cell_type": "markdown",
   "id": "ad7f93c0",
   "metadata": {},
   "source": [
    "#### read from a file test"
   ]
  },
  {
   "cell_type": "code",
   "execution_count": null,
   "id": "8b9f481f",
   "metadata": {},
   "outputs": [],
   "source": [
    "# with open('george_write.txt') as f:\n",
    "#     data = f.readlines()"
   ]
  },
  {
   "cell_type": "code",
   "execution_count": null,
   "id": "537ed849",
   "metadata": {},
   "outputs": [],
   "source": [
    "# data"
   ]
  },
  {
   "cell_type": "markdown",
   "id": "2dc09b19",
   "metadata": {},
   "source": [
    "* check completed, test passed to readlines()"
   ]
  },
  {
   "cell_type": "markdown",
   "id": "3abb5ddd",
   "metadata": {},
   "source": [
    "#### verifying file exists"
   ]
  },
  {
   "cell_type": "code",
   "execution_count": null,
   "id": "47a9f29f",
   "metadata": {},
   "outputs": [],
   "source": [
    "os.path.exists('george_write.txt') # boolean telling me T/F"
   ]
  },
  {
   "cell_type": "code",
   "execution_count": null,
   "id": "4df2327f",
   "metadata": {},
   "outputs": [],
   "source": [
    "filename = 'george_write.txt' # noting filename"
   ]
  },
  {
   "cell_type": "code",
   "execution_count": null,
   "id": "6bc5f574",
   "metadata": {},
   "outputs": [],
   "source": [
    "os.listdir() # checking my list and checking it twice"
   ]
  },
  {
   "cell_type": "markdown",
   "id": "3302b14f",
   "metadata": {},
   "source": [
    "* below is if/else statement to either read the rile or write it"
   ]
  },
  {
   "cell_type": "code",
   "execution_count": null,
   "id": "7e9662e0",
   "metadata": {},
   "outputs": [],
   "source": [
    "# if os.path.exists('george_write.txt'):\n",
    "#     print('file exists, read from location')\n",
    "#     with open('george_write.txt', 'r') as f: # if statement to read if exists\n",
    "#         data = f.readlines()\n",
    "#         print(data)\n",
    "# else:\n",
    "#     print(\"file doesn't exist, creating now\")\n",
    "#     with open('george_does_write.txt', 'w') as f: # else statement to touch file\n",
    "#         f.write('testing')"
   ]
  },
  {
   "cell_type": "markdown",
   "id": "8c4c6eb7",
   "metadata": {},
   "source": [
    "## functions to append/read from checkbook to george"
   ]
  },
  {
   "cell_type": "code",
   "execution_count": null,
   "id": "e2c1ac23",
   "metadata": {},
   "outputs": [],
   "source": [
    "# def write_to_george(checkbook_entry):\n",
    "#     if checkbook_entry == True:\n",
    "#         with open('george_write.txt', 'a') as f:\n",
    "#     f.writelines(checkbook_entry\\n)"
   ]
  },
  {
   "cell_type": "code",
   "execution_count": null,
   "id": "32da97f3",
   "metadata": {},
   "outputs": [],
   "source": [
    "# def read_to_checkbook(george_write):\n",
    "#     if int(input) == #:\n",
    "#         if os.path.exists('george_write.txt'):\n",
    "#             print('Thank you for your selection. The file exists, here you go.')\n",
    "#             with open('george_write.txt', 'r') as f:\n",
    "#                 data = f.readlines()\n",
    "#                 print(data)\n",
    "#         else:\n",
    "#             print(\"Oops! The file doesn't exist, creating now.\")\n",
    "#             with open('george_does_write.txt', 'a') as f: # else statement to touch file\n",
    "#                 f.write('testing')\n",
    "#             with open('george_does_write.txt', 'r') as f:\n",
    "#                 data = f.readlines()\n",
    "#                 print(data)"
   ]
  },
  {
   "cell_type": "markdown",
   "id": "e1ee079c",
   "metadata": {},
   "source": [
    "* complete, not tested"
   ]
  },
  {
   "cell_type": "markdown",
   "id": "9118abd1",
   "metadata": {},
   "source": [
    "## checkbook features"
   ]
  },
  {
   "cell_type": "markdown",
   "id": "f669edc8",
   "metadata": {},
   "source": [
    "code for selection list"
   ]
  },
  {
   "cell_type": "code",
   "execution_count": null,
   "id": "dc9fc67d",
   "metadata": {
    "scrolled": true
   },
   "outputs": [],
   "source": [
    "# while True:\n",
    "#     try:\n",
    "#         selection = int(input(\"Selection: \"))\n",
    "#         assert selection <= 4 and selection >0\n",
    "#     except ValueError:\n",
    "#         print(\"Sorry, I didn't understand that. Please input a selection between 1 and 4.\")\n",
    "#         continue\n",
    "#     except AssertionError:\n",
    "#         print(\"Sorry, I didn't understand that. Please input a selection between 1 and 4.\")\n",
    "#         continue\n",
    "#     else:\n",
    "#         break"
   ]
  },
  {
   "cell_type": "markdown",
   "id": "3efcb5d8",
   "metadata": {},
   "source": [
    "* input conditional check completed, test passed for:\n",
    "    * integer between 0 and 4\n",
    "    * selection not a string type"
   ]
  },
  {
   "cell_type": "markdown",
   "id": "d165e407",
   "metadata": {},
   "source": [
    "* code for continue feature"
   ]
  },
  {
   "cell_type": "code",
   "execution_count": null,
   "id": "12b659d3",
   "metadata": {
    "scrolled": true
   },
   "outputs": [],
   "source": [
    "# answer = None \n",
    "# while answer not in (\"yes\", \"no\"): \n",
    "#     answer = str.lower((input(\"Continue? Enter Yes or No: \")))\n",
    "#     if answer == \"yes\": \n",
    "#          print('Grabbing your request now.')\n",
    "#     elif answer == \"no\": \n",
    "#          print('Thank you, goodbye')\n",
    "#     else: \n",
    "#         print(\"Sorry, I didn't understand that. Please input a Yes or a No.\") "
   ]
  },
  {
   "cell_type": "markdown",
   "id": "693993ca",
   "metadata": {},
   "source": [
    "* input continue feature check completed, test passed\n",
    "    * upper/lower\n",
    "    * integers"
   ]
  },
  {
   "cell_type": "markdown",
   "id": "4f7e76c0",
   "metadata": {},
   "source": [
    "## input table"
   ]
  },
  {
   "cell_type": "code",
   "execution_count": null,
   "id": "b8afc06d",
   "metadata": {},
   "outputs": [],
   "source": [
    "print(f\"Hi, my name is George. How may I help you today?\" )\n",
    "print()\n",
    "print(f\"Please select from the following: \")\n",
    "print()\n",
    "print(f\"Enter 1 for Deposit\\n\" \"Enter 2 for Withdrawal\\n\" \"Enter 3 for Check Balance\\n\" \"Enter 4 to Exit\")\n",
    "print()\n",
    "while True:\n",
    "    try:\n",
    "        selection = int(input(\"Selection: \"))\n",
    "        assert selection <= 4 and selection >0\n",
    "    except ValueError:\n",
    "        print(\"Sorry, I didn't understand that. Please input a selection between 1 and 4.\")\n",
    "        continue\n",
    "    except AssertionError:\n",
    "        print(\"Sorry, I didn't understand that. Please input a selection between 1 and 4.\")\n",
    "        continue\n",
    "    else:\n",
    "        break\n",
    "print()\n",
    "\n",
    "answer = None \n",
    "while answer not in (\"yes\", \"no\"): \n",
    "    answer = str.lower((input(f\"You have chosen {selection}. Continue? \")))\n",
    "    if answer == \"yes\": \n",
    "         print('Grabbing your request now.')\n",
    "    elif answer == \"no\": \n",
    "         print('Thank you, goodbye')\n",
    "    else: \n",
    "        print(\"Sorry, I didn't understand that. Please input a Yes or a No.\") \n",
    "print()"
   ]
  },
  {
   "cell_type": "markdown",
   "id": "1a95c25b",
   "metadata": {},
   "source": [
    "## 1. Deposit Function"
   ]
  },
  {
   "cell_type": "code",
   "execution_count": null,
   "id": "2e31cf37",
   "metadata": {},
   "outputs": [],
   "source": [
    "# if selection == 1:\n",
    "#     insert function here to deposit to balance\n",
    "#         add insert function here to write to george_write file\n",
    "#         add function to go back to exit"
   ]
  },
  {
   "cell_type": "code",
   "execution_count": null,
   "id": "dab950f4",
   "metadata": {},
   "outputs": [],
   "source": [
    "selection_test_1 = int(1)\n",
    "amount_test = float(80.00)\n",
    "balance_test = float(0.00)\n",
    "if selection_test_1 == 1:\n",
    "    new_balance_test = balance_test + amount_test\n",
    "    print(new_balance_test)\n",
    "    \n",
    "    \n",
    "#     with open('george_write.txt', 'a') as f: # appending not overwriting\n",
    "#     f.writelines('\\n today is thursday')"
   ]
  },
  {
   "cell_type": "markdown",
   "id": "a552bfe2",
   "metadata": {},
   "source": [
    "* deposit function check completed, test passed\n",
    "    * test values\n",
    "    * int and float assignment"
   ]
  },
  {
   "cell_type": "markdown",
   "id": "6628c201",
   "metadata": {},
   "source": [
    "## 2. Withdrawal Function"
   ]
  },
  {
   "cell_type": "code",
   "execution_count": null,
   "id": "7322ac2c",
   "metadata": {},
   "outputs": [],
   "source": [
    "selection_test_2 = int(2)\n",
    "amount_test_with = float(20.25)\n",
    "if selection_test_2 == 2:\n",
    "    new_balance_test = new_balance_test - amount_test_with\n",
    "    print(new_balance_test)\n",
    "    \n",
    "#     with open('george_write.txt', 'a') as f: # appending not overwriting\n",
    "#     f.writelines('\\n today is thursday')"
   ]
  },
  {
   "cell_type": "code",
   "execution_count": null,
   "id": "63daccdf",
   "metadata": {},
   "outputs": [],
   "source": [
    "# if selection == 2:\n",
    "#     insert function here to withdrawal from balance\n",
    "#         add insert function here to write to george_write file\n",
    "#         add function to go back to exit"
   ]
  },
  {
   "cell_type": "markdown",
   "id": "355d2563",
   "metadata": {},
   "source": [
    "* withdrawal function check completed, test passed\n",
    "    * used test values AND values from deposit function\n",
    "    * float and int assigned"
   ]
  },
  {
   "cell_type": "markdown",
   "id": "274efdeb",
   "metadata": {},
   "source": [
    "## 3. Check Balance Function"
   ]
  },
  {
   "cell_type": "code",
   "execution_count": null,
   "id": "7c5c2dff",
   "metadata": {},
   "outputs": [],
   "source": [
    "if selection_test_3 == 3:\n",
    "    print(f\"Your balance is: ${new_balance_test}\")"
   ]
  },
  {
   "cell_type": "code",
   "execution_count": null,
   "id": "5ee32295",
   "metadata": {},
   "outputs": [],
   "source": [
    "print(f\"Your balance is: ${new_balance_test}\")"
   ]
  },
  {
   "cell_type": "markdown",
   "id": "a9c55dcd",
   "metadata": {},
   "source": [
    "* check balance function check completed, test passed\n",
    "    * returns new_balance_test value from before"
   ]
  },
  {
   "cell_type": "code",
   "execution_count": null,
   "id": "ea3a916a",
   "metadata": {},
   "outputs": [],
   "source": [
    "if selection == 3:\n",
    "    insert function here to READ george_write file for balance\n",
    "    add function to exit"
   ]
  },
  {
   "cell_type": "markdown",
   "id": "21dd5781",
   "metadata": {},
   "source": [
    "## 4. Exit"
   ]
  },
  {
   "cell_type": "code",
   "execution_count": null,
   "id": "7baeb076",
   "metadata": {},
   "outputs": [],
   "source": [
    "if selection == 4:\n",
    "#     with open('george_write.txt', 'a') as f: # appending not overwriting\n",
    "#         f.writelines('\\n {str(new_balance_test)}')\n",
    "    print('Thank you for the visit, see you later!')"
   ]
  },
  {
   "cell_type": "code",
   "execution_count": null,
   "id": "c3be7ddf",
   "metadata": {},
   "outputs": [],
   "source": [
    "print('Thank you for the visit, see you later!')"
   ]
  },
  {
   "cell_type": "markdown",
   "id": "7e5a6e6d",
   "metadata": {},
   "source": [
    "* exit function print only goodbye\n",
    "    * do not know how to actually exit the program"
   ]
  },
  {
   "cell_type": "markdown",
   "id": "1576e3dd",
   "metadata": {},
   "source": [
    "## TEST table for inputting function 1, 2"
   ]
  },
  {
   "cell_type": "code",
   "execution_count": 59,
   "id": "665b3ab7",
   "metadata": {
    "scrolled": false
   },
   "outputs": [
    {
     "name": "stdout",
     "output_type": "stream",
     "text": [
      "Hi, my name is George. How may I help you today?\n",
      "\n",
      "Please select from the following: \n",
      "\n",
      "Enter 1 for Deposit\n",
      "Enter 2 for Withdrawal\n",
      "Enter 3 for Check Balance\n",
      "Enter 4 to Exit\n",
      "\n",
      "Current Balance: $94\n",
      "Selection: 1\n",
      "\n",
      "How much would you like to deposit? We don't care about pennies here. 3\n",
      "\n",
      "Your balance is: $97\n",
      "Would you like to continue? yes\n",
      "Grabbing your request now.\n",
      "Selection: 2\n",
      "\n",
      "\n",
      "Would you like to continue? yes\n",
      "Grabbing your request now.\n",
      "Selection: 2\n",
      "\n",
      "\n"
     ]
    }
   ],
   "source": [
    "def main_menu(selection): # establishing function to loop through\n",
    "    while True:\n",
    "        try:\n",
    "            selection = int(input(\"Selection: \"))\n",
    "            assert selection <= 4 and selection >0\n",
    "        except ValueError:\n",
    "            print(\"Sorry, I didn't understand that. Please input a selection between 1 and 4.\")\n",
    "            continue\n",
    "        except AssertionError:\n",
    "            print(\"Sorry, I didn't understand that. Please input a selection between 1 and 4.\")\n",
    "            continue\n",
    "        else:\n",
    "            break\n",
    "            \n",
    "print(f\"Hi, my name is George. How may I help you today?\" )\n",
    "print()\n",
    "print(f\"Please select from the following: \")\n",
    "print()\n",
    "print(f\"Enter 1 for Deposit\\n\" \"Enter 2 for Withdrawal\\n\" \"Enter 3 for Check Balance\\n\" \"Enter 4 to Exit\")\n",
    "print()\n",
    "\n",
    "with open('george_write.txt') as f:\n",
    "    balance = f.read()\n",
    "    \n",
    "print(f\"Current Balance: ${balance}\") \n",
    "\n",
    "# main menu below\n",
    "\n",
    "\n",
    "while True:\n",
    "    try:\n",
    "        selection = int(input(\"Selection: \"))\n",
    "        assert selection <= 4 and selection >0\n",
    "    except ValueError:\n",
    "        print(\"Sorry, I didn't understand that. Please input a selection between 1 and 4.\")\n",
    "        continue\n",
    "    except AssertionError:\n",
    "        print(\"Sorry, I didn't understand that. Please input a selection between 1 and 4.\")\n",
    "        continue\n",
    "    else:\n",
    "        break\n",
    "\n",
    "# deposit function below\n",
    "\n",
    "if selection == 1:\n",
    "    deposit_amount = int(input(\"How much would you like to deposit? We don't care about pennies here. \"))\n",
    "    if deposit_amount >=0:\n",
    "        balance = int(balance) + deposit_amount\n",
    "        print()\n",
    "        print(f\"Your balance is: ${balance}\")\n",
    "        with open('george_write.txt', 'w') as f: #overwriting\n",
    "            f.write(str(balance))\n",
    "        \n",
    "    answer = None \n",
    "    while answer not in (\"yes\", \"no\"): \n",
    "        answer = str.lower((input(f\"Would you like to continue? \")))\n",
    "        if answer == \"yes\":\n",
    "            print('Grabbing your request now.')\n",
    "            main_menu(selection)\n",
    "            continue\n",
    "        elif answer == \"no\": \n",
    "            print('Thank you, goodbye')\n",
    "        else: \n",
    "            print(\"Sorry, I didn't understand that. Please input a Yes or a No.\")\n",
    "            break    \n",
    "          \n",
    "    if deposit_amount == str():\n",
    "        print(f\"Your input is not correct. Please input a number like this, 100: \")\n",
    "        \n",
    "# withdrawal function below\n",
    "\n",
    "if selection == 2:\n",
    "    withdrawal_amount = int(input(\"How much would you like to withdraw? We don't care about pennies here. \"))\n",
    "    if withdrawal_amount >=0:\n",
    "        balance = int(balance) - withdrawal_amount\n",
    "        print()\n",
    "        print(f\"Your balance is: ${balance}\")\n",
    "        with open('george_write.txt', 'w') as f: #overwriting\n",
    "            f.write(str(balance))\n",
    "            \n",
    "    answer = None \n",
    "    while answer not in (\"yes\", \"no\"): \n",
    "        answer = str.lower((input(f\"Would you like to continue? \")))\n",
    "        if answer == \"yes\":\n",
    "            print('Grabbing your request now.')\n",
    "            main_menu(selection)\n",
    "        elif answer == \"no\": \n",
    "            print('Thank you, goodbye')\n",
    "        else: \n",
    "            print(\"Sorry, I didn't understand that. Please input a Yes or a No.\")\n",
    "            break  \n",
    "        \n",
    "    if withdrawal_amount == str():\n",
    "        print(f\"Your input is not correct. Please input a number like this, 100: \")\n",
    "        \n",
    "\n",
    "# check balance function below\n",
    "\n",
    "if selection == 3:\n",
    "    print(f\"Your balance is: ${balance}\")\n",
    "    \n",
    "answer = None \n",
    "while answer not in (\"yes\", \"no\"): \n",
    "    answer = str.lower((input(f\"Would you like to continue? \")))\n",
    "    if answer == \"yes\":\n",
    "        print('Grabbing your request now.')\n",
    "        main_menu(selection)\n",
    "    elif answer == \"no\": \n",
    "        print('Thank you, goodbye')\n",
    "    else: \n",
    "        print(\"Sorry, I didn't understand that. Please input a Yes or a No.\")\n",
    "        break\n",
    "    \n",
    "# exit function below\n",
    "\n",
    "if selection == 4:\n",
    "    with open('george_write.txt', 'w') as f: # appending not overwriting\n",
    "        f.write(str(balance))\n",
    "    print('Thank you for the visit, see you later!')\n",
    "\n",
    "    answer = None \n",
    "    while answer not in (\"yes\", \"no\"): \n",
    "        answer = str.lower((input(f\"Would you like to continue? \")))\n",
    "        if answer == \"yes\":\n",
    "            print('Grabbing your request now.')\n",
    "            main_menu(selection)\n",
    "        elif answer == \"no\": \n",
    "            print('Thank you, goodbye')\n",
    "        else: \n",
    "            print(\"Sorry, I didn't understand that. Please input a Yes or a No.\")\n",
    "            break\n",
    "print()\n",
    "\n",
    "# answer = None \n",
    "# while answer not in (\"yes\", \"no\"): \n",
    "#     answer = str.lower((input(f\"Would you like to continue? \")))\n",
    "#     if answer == \"yes\":\n",
    "#         print('Grabbing your request now.')\n",
    "#     elif answer == \"no\": \n",
    "#         print('Thank you, goodbye')\n",
    "#     else: \n",
    "#         print(\"Sorry, I didn't understand that. Please input a Yes or a No.\")\n",
    "#         break"
   ]
  },
  {
   "cell_type": "markdown",
   "id": "d5aef8c4",
   "metadata": {},
   "source": [
    "* test 1 passed for deposit function\n",
    "    * resets balance to 0 during testing\n",
    "* test 2 passed for withdrawal function\n",
    "    * uses new_balance from first function\n",
    "* test 3 passed for check balance function\n",
    "    * uses new_balance from first function\n",
    "* test 4 passed for exit function\n",
    "    * returns to the continue? screen to double check then exits\n",
    "    \n",
    "    \n",
    "* test 5 passed for function 1!\n",
    "    * turned balance into an int to manipulate\n",
    "* test 6 passed for writing ability to deposit\n",
    "    * PASSED - reading from .txt\n",
    "    * PASSED - writing as int to .txt\n",
    "* test 7 passed for writing ability to withdraw\n",
    "    * that's a good feeling :)\n",
    "* test 8 passed for check balance function\n",
    "    * spits out correct value\n",
    "    \n",
    "    \n",
    "* test 9 for exit capability\n",
    "    * test passed but a bit rudimentary\n",
    "    \n",
    "* test 10 for looping in function 1\n",
    "    * test passed using function main_menu(selection)\n",
    "* test 11 for iterating through each selection\n",
    "    * function 2 passed, 3 failed\n",
    "* test 12 fails when trying to access main menu from current selection"
   ]
  },
  {
   "cell_type": "markdown",
   "id": "a50da97b",
   "metadata": {},
   "source": [
    "### testing area below"
   ]
  },
  {
   "cell_type": "code",
   "execution_count": null,
   "id": "28c9cfcd",
   "metadata": {},
   "outputs": [],
   "source": [
    "def main_menu(selection):\n",
    "    print(f\"Hi, my name is George. How may I help you today?\" )\n",
    "    print()\n",
    "    print(f\"Please select from the following: \")\n",
    "    print()\n",
    "    print(f\"Enter 1 for Deposit\\n\" \"Enter 2 for Withdrawal\\n\" \"Enter 3 for Check Balance\\n\" \"Enter 4 to Exit\")\n",
    "    print()\n",
    "    with open('george_write.txt') as f:\n",
    "        balance = f.read()\n",
    "    print(f\"Current Balance: ${balance}\") \n",
    "    print()\n",
    "    while True:\n",
    "        try:\n",
    "            selection = int(input(\"Selection: \"))\n",
    "            assert selection <= 4 and selection >0\n",
    "        except ValueError:\n",
    "            print(\"Sorry, I didn't understand that. Please input a selection between 1 and 4.\")\n",
    "            continue\n",
    "        except AssertionError:\n",
    "            print(\"Sorry, I didn't understand that. Please input a selection between 1 and 4.\")\n",
    "            continue\n",
    "        else:\n",
    "            break"
   ]
  },
  {
   "cell_type": "code",
   "execution_count": 42,
   "id": "659403f1",
   "metadata": {},
   "outputs": [
    {
     "name": "stdout",
     "output_type": "stream",
     "text": [
      "Selection: 1\n"
     ]
    }
   ],
   "source": [
    "main_menu(1)"
   ]
  },
  {
   "cell_type": "code",
   "execution_count": null,
   "id": "f8be7ad2",
   "metadata": {},
   "outputs": [],
   "source": []
  }
 ],
 "metadata": {
  "kernelspec": {
   "display_name": "Python 3 (ipykernel)",
   "language": "python",
   "name": "python3"
  },
  "language_info": {
   "codemirror_mode": {
    "name": "ipython",
    "version": 3
   },
   "file_extension": ".py",
   "mimetype": "text/x-python",
   "name": "python",
   "nbconvert_exporter": "python",
   "pygments_lexer": "ipython3",
   "version": "3.9.13"
  }
 },
 "nbformat": 4,
 "nbformat_minor": 5
}

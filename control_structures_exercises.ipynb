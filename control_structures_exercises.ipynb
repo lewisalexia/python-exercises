{
 "cells": [
  {
   "cell_type": "markdown",
   "id": "161acbfc",
   "metadata": {},
   "source": [
    "## 1.a\n",
    "#### Prompt the user for a day of the week, print out whether the day is Monday or not"
   ]
  },
  {
   "cell_type": "code",
   "execution_count": null,
   "id": "a7cc4c40",
   "metadata": {},
   "outputs": [],
   "source": [
    "day = input(\"give me the day of the week: \")\n",
    "day = day.lower()\n",
    "\n",
    "print(day)\n",
    "\n",
    "if day == \"monday\":\n",
    "    print(\"today is monday\")\n",
    "else:\n",
    "    print(\"today is not monday\")"
   ]
  },
  {
   "cell_type": "markdown",
   "id": "db742389",
   "metadata": {},
   "source": [
    "## 1.b\n",
    "#### Prompt the user for a day of the week, print out whether the day is a weekday or a weekend"
   ]
  },
  {
   "cell_type": "code",
   "execution_count": null,
   "id": "95e4c509",
   "metadata": {},
   "outputs": [],
   "source": [
    "day2 = input(\"give me the day of the week: \")\n",
    "weekend = [\"saturday\", \"sunday\"]\n",
    "\n",
    "if day2.lower() in weekend:\n",
    "    print(\"this is the weekend\")\n",
    "else:\n",
    "    print(\"this is not the weekend\")"
   ]
  },
  {
   "cell_type": "markdown",
   "id": "8c7a08e5",
   "metadata": {},
   "source": [
    "## 1.c\n",
    "#### Calculate a weekly paycheck, accounting for overtime pay. Create variables and make up values for:\n",
    "* The number of hours worked in one week\n",
    "* The hourly rate\n",
    "\n",
    "For calculating pay:\n",
    "* For working 40 hours or less, each hour is paid at the hourly rate\n",
    "* For working more than 40 hours\n",
    "    * the first 40 hours are paid at the hourly rate\n",
    "    * each hour after 40 is paid at time and a half (hourly rate * 1.5)"
   ]
  },
  {
   "cell_type": "code",
   "execution_count": null,
   "id": "06f52146",
   "metadata": {},
   "outputs": [],
   "source": [
    "hours = 60.0\n",
    "ot_hours = 10.0\n",
    "hr_rate = 40.0\n",
    "ot_rate = hr_rate * 1.5\n",
    "print (hours, hr_rate, ot_rate)\n",
    "\n",
    "paycheck = hours * hr_rate\n",
    "print(paycheck)\n",
    "\n",
    "paycheck = hours * hr_rate\n",
    "if hours <= 40.0:\n",
    "    paycheck =  hours * hr_rate\n",
    "else:\n",
    "    ot_hours = hours - 40\n",
    "    paycheck = (hr_rate*40) + (ot_hours*ot_rate)\n",
    "    \n",
    "paycheck"
   ]
  },
  {
   "cell_type": "markdown",
   "id": "e7795ad9",
   "metadata": {},
   "source": [
    "## 2.a\n",
    "#### Create an integer variable i with a value of 5. Create a while loop that runs so long as i is less than or equal to 15. Each loop iteration, output the current value of i, then increment i by one."
   ]
  },
  {
   "cell_type": "code",
   "execution_count": 217,
   "id": "51b18d0b",
   "metadata": {
    "scrolled": true
   },
   "outputs": [
    {
     "name": "stdout",
     "output_type": "stream",
     "text": [
      "5\n",
      "6\n",
      "7\n",
      "8\n",
      "9\n",
      "10\n",
      "11\n",
      "12\n",
      "13\n",
      "14\n",
      "15\n"
     ]
    }
   ],
   "source": [
    "i = 5\n",
    "\n",
    "while i <= 15:\n",
    "    print(i)\n",
    "    i += 1"
   ]
  },
  {
   "cell_type": "markdown",
   "id": "71f9ae98",
   "metadata": {},
   "source": [
    "#### Create a while loop that will count by 2's starting with 0 and ending at 100. Follow each number with a new line."
   ]
  },
  {
   "cell_type": "code",
   "execution_count": 218,
   "id": "77616088",
   "metadata": {},
   "outputs": [
    {
     "name": "stdout",
     "output_type": "stream",
     "text": [
      "0\n",
      "\n",
      "2\n",
      "\n",
      "4\n",
      "\n",
      "6\n",
      "\n",
      "8\n",
      "\n",
      "10\n",
      "\n",
      "12\n",
      "\n",
      "14\n",
      "\n",
      "16\n",
      "\n",
      "18\n",
      "\n",
      "20\n",
      "\n",
      "22\n",
      "\n",
      "24\n",
      "\n",
      "26\n",
      "\n",
      "28\n",
      "\n",
      "30\n",
      "\n",
      "32\n",
      "\n",
      "34\n",
      "\n",
      "36\n",
      "\n",
      "38\n",
      "\n",
      "40\n",
      "\n",
      "42\n",
      "\n",
      "44\n",
      "\n",
      "46\n",
      "\n",
      "48\n",
      "\n",
      "50\n",
      "\n",
      "52\n",
      "\n",
      "54\n",
      "\n",
      "56\n",
      "\n",
      "58\n",
      "\n",
      "60\n",
      "\n",
      "62\n",
      "\n",
      "64\n",
      "\n",
      "66\n",
      "\n",
      "68\n",
      "\n",
      "70\n",
      "\n",
      "72\n",
      "\n",
      "74\n",
      "\n",
      "76\n",
      "\n",
      "78\n",
      "\n",
      "80\n",
      "\n",
      "82\n",
      "\n",
      "84\n",
      "\n",
      "86\n",
      "\n",
      "88\n",
      "\n",
      "90\n",
      "\n",
      "92\n",
      "\n",
      "94\n",
      "\n",
      "96\n",
      "\n",
      "98\n",
      "\n",
      "100\n",
      "\n"
     ]
    }
   ],
   "source": [
    "i = 0\n",
    "\n",
    "while i <= 100:\n",
    "    print(i)\n",
    "    print()\n",
    "    i += 2"
   ]
  },
  {
   "cell_type": "markdown",
   "id": "a9ddbb39",
   "metadata": {},
   "source": [
    "#### Create a while loop that starts at 2, and displays the number squared on each line while the number is less than 1,000,000. Output should equal:"
   ]
  },
  {
   "cell_type": "code",
   "execution_count": 219,
   "id": "adae12d9",
   "metadata": {},
   "outputs": [
    {
     "name": "stdout",
     "output_type": "stream",
     "text": [
      "2\n",
      "4\n",
      "16\n",
      "256\n",
      "65536\n"
     ]
    }
   ],
   "source": [
    "i = 2\n",
    "while i <= 1_000_000:\n",
    "    print(i)\n",
    "    i **= 2"
   ]
  },
  {
   "cell_type": "markdown",
   "id": "5f8348cf",
   "metadata": {},
   "source": [
    "#### Write a while loop that uses print to create the output shown below.\n",
    "100\n",
    "95\n",
    "90\n",
    "85\n",
    "80\n",
    "75\n",
    "70\n",
    "65\n",
    "60\n",
    "55\n",
    "50\n",
    "45\n",
    "40\n",
    "35\n",
    "30\n",
    "25\n",
    "20\n",
    "15\n",
    "10\n",
    "5\n"
   ]
  },
  {
   "cell_type": "code",
   "execution_count": 222,
   "id": "fee3d1de",
   "metadata": {},
   "outputs": [],
   "source": [
    "range?"
   ]
  },
  {
   "cell_type": "code",
   "execution_count": 220,
   "id": "8213ef20",
   "metadata": {},
   "outputs": [
    {
     "name": "stdout",
     "output_type": "stream",
     "text": [
      "100\n",
      "95\n",
      "90\n",
      "85\n",
      "80\n",
      "75\n",
      "70\n",
      "65\n",
      "60\n",
      "55\n",
      "50\n",
      "45\n",
      "40\n",
      "35\n",
      "30\n",
      "25\n",
      "20\n",
      "15\n",
      "10\n",
      "5\n"
     ]
    }
   ],
   "source": [
    "i = 100\n",
    "while i >= 5:\n",
    "    print(i)\n",
    "    i -= 5"
   ]
  },
  {
   "cell_type": "markdown",
   "id": "f99901b7",
   "metadata": {},
   "source": [
    "## 2.b\n",
    "#### Write some code using a for loop that prompts the user for a number, then shows a multiplication table up through 10 for that number."
   ]
  },
  {
   "cell_type": "code",
   "execution_count": 223,
   "id": "9371e5c6",
   "metadata": {},
   "outputs": [
    {
     "name": "stdout",
     "output_type": "stream",
     "text": [
      "Display multiplication table of? 7\n",
      "7 x 1 = 7\n",
      "7 x 2 = 14\n",
      "7 x 3 = 21\n",
      "7 x 4 = 28\n",
      "7 x 5 = 35\n",
      "7 x 6 = 42\n",
      "7 x 7 = 49\n",
      "7 x 8 = 56\n",
      "7 x 9 = 63\n",
      "7 x 10 = 70\n"
     ]
    }
   ],
   "source": [
    "num = int(input(\"Display multiplication table of? \"))\n",
    "for i in range(1,11):\n",
    "    print(num,'x', i,'=', num * i)"
   ]
  },
  {
   "cell_type": "markdown",
   "id": "a0160170",
   "metadata": {},
   "source": [
    "#### Create a for loop that uses print to create the output shown below.\n",
    "1\n",
    "22\n",
    "333\n",
    "4444\n",
    "55555\n",
    "666666\n",
    "7777777\n",
    "88888888\n",
    "999999999\n"
   ]
  },
  {
   "cell_type": "code",
   "execution_count": 225,
   "id": "0dd72915",
   "metadata": {},
   "outputs": [
    {
     "name": "stdout",
     "output_type": "stream",
     "text": [
      "1\n",
      "22\n",
      "333\n",
      "4444\n",
      "55555\n",
      "666666\n",
      "7777777\n",
      "88888888\n",
      "999999999\n"
     ]
    }
   ],
   "source": [
    "for i in range(1,10):\n",
    "    print(i*str(i))"
   ]
  },
  {
   "cell_type": "code",
   "execution_count": 22,
   "id": "c1b758fb",
   "metadata": {},
   "outputs": [
    {
     "name": "stdout",
     "output_type": "stream",
     "text": [
      "Enter Number 1-9: 9\n",
      "1\n",
      "22\n",
      "333\n",
      "4444\n",
      "55555\n",
      "666666\n",
      "7777777\n",
      "88888888\n",
      "999999999\n"
     ]
    }
   ],
   "source": [
    "number2b2 = int(input(\"Enter Number 1-9: \"))\n",
    "\n",
    "for i in range(1,number2b2+1):\n",
    "    for j in range(1, i+1):\n",
    "        print(i, end=\"\")\n",
    "    print()"
   ]
  },
  {
   "cell_type": "markdown",
   "id": "b7c45f3f",
   "metadata": {},
   "source": [
    "## 2.c\n",
    "#### Write a program that prompts the user for a positive integer. Next write a loop that prints out the numbers from the number the user entered down to 1."
   ]
  },
  {
   "cell_type": "code",
   "execution_count": 29,
   "id": "1ed7a664",
   "metadata": {
    "scrolled": true
   },
   "outputs": [
    {
     "name": "stdout",
     "output_type": "stream",
     "text": [
      "Enter a Number 1-10: 8\n",
      "8\n",
      "7\n",
      "6\n",
      "5\n",
      "4\n",
      "3\n",
      "2\n",
      "1\n"
     ]
    }
   ],
   "source": [
    "num2c = int(input(\"Enter a Number 1-10: \"))\n",
    "\n",
    "for i in range(0,num2c-1):\n",
    "    print(num2c)\n",
    "    num2c = num2c - 1\n",
    "print (num2c)"
   ]
  },
  {
   "cell_type": "markdown",
   "id": "c72e90d3",
   "metadata": {},
   "source": [
    "#### The input function can be used to prompt for input and use that input in your python code. Prompt the user to enter a positive number and write a loop that counts from 0 to that number. (Hints: note that the input function returns a string, so you'll need to convert this to a numeric type.)"
   ]
  },
  {
   "cell_type": "code",
   "execution_count": 227,
   "id": "6095aff1",
   "metadata": {},
   "outputs": [
    {
     "name": "stdout",
     "output_type": "stream",
     "text": [
      "Enter a Number 1-10: 6\n",
      "0\n",
      "1\n",
      "2\n",
      "3\n",
      "4\n",
      "5\n",
      "6\n"
     ]
    }
   ],
   "source": [
    "num2c2 = int(input(\"Enter a Number 1-10: \"))\n",
    "\n",
    "for i in range(num2c2+1):\n",
    "    print (i)"
   ]
  },
  {
   "cell_type": "markdown",
   "id": "419d8ec2",
   "metadata": {},
   "source": [
    "#### Prompt the user for an odd number between 1 and 50. Use a loop and a break statement to continue prompting the user if they enter invalid input. (Hint: use the isdigit method on strings to determine this). Use a loop and the continue statement to output all the odd numbers between 1 and 50, except for the number the user entered.\n",
    "Number to skip is: 27\n",
    "\n",
    "...\n",
    "\n",
    "Here is an odd number: 25\n",
    "\n",
    "Yikes! Skipping number: 27\n",
    "\n",
    "Here is an odd number: 29"
   ]
  },
  {
   "cell_type": "code",
   "execution_count": null,
   "id": "6564e8db",
   "metadata": {},
   "outputs": [],
   "source": [
    "while True:\n",
    "    try: \n",
    "        num2c3 = int(input(\"Enter an Odd Number 1-50: \"))\n",
    "        assert num2c3 %2 != 0\n",
    "    except ValueError:\n",
    "        print(\"Sorry, I didn't understand that. Please input an odd number between 1 and 50.\")\n",
    "        continue\n",
    "    except AssertionError:\n",
    "        print(\"Sorry, I didn't understand that. Please input an odd number between 1 and 50.\")\n",
    "        continue\n",
    "    else:\n",
    "        break\n",
    "print()\n",
    "print(\"Number to skip is:\",num2c3)\n",
    "print()\n",
    "for i in range(51):\n",
    "    if i == num2c3:\n",
    "        print('Yikes! Skipping number:',num2c3)\n",
    "        continue\n",
    "    if i %2 != 0:\n",
    "        print(\"Here is an odd number:\",i)"
   ]
  },
  {
   "cell_type": "markdown",
   "id": "2349136f",
   "metadata": {},
   "source": [
    "## 3.\n",
    "#### One of the most common interview questions for entry-level programmers is the FizzBuzz test. Developed by Imran Ghory, the test is designed to test basic looping and conditional logic skills.\n",
    "* Write a program that prints the numbers from 1 to 100.\n",
    "* For multiples of three print \"Fizz\" instead of the number\n",
    "* For the multiples of five print \"Buzz\".\n",
    "* For numbers which are multiples of both three and five print \"FizzBuzz\"."
   ]
  },
  {
   "cell_type": "code",
   "execution_count": 127,
   "id": "06243084",
   "metadata": {},
   "outputs": [
    {
     "name": "stdout",
     "output_type": "stream",
     "text": [
      "1\n",
      "2\n",
      "Fizz\n",
      "4\n",
      "Buzz\n",
      "Fizz\n",
      "7\n",
      "8\n",
      "Fizz\n",
      "Buzz\n",
      "11\n",
      "Fizz\n",
      "13\n",
      "14\n",
      "FizzBuzz\n",
      "16\n",
      "17\n",
      "Fizz\n",
      "19\n",
      "Buzz\n",
      "Fizz\n",
      "22\n",
      "23\n",
      "Fizz\n",
      "Buzz\n",
      "26\n",
      "Fizz\n",
      "28\n",
      "29\n",
      "FizzBuzz\n",
      "31\n",
      "32\n",
      "Fizz\n",
      "34\n",
      "Buzz\n",
      "Fizz\n",
      "37\n",
      "38\n",
      "Fizz\n",
      "Buzz\n",
      "41\n",
      "Fizz\n",
      "43\n",
      "44\n",
      "FizzBuzz\n",
      "46\n",
      "47\n",
      "Fizz\n",
      "49\n",
      "Buzz\n",
      "Fizz\n",
      "52\n",
      "53\n",
      "Fizz\n",
      "Buzz\n",
      "56\n",
      "Fizz\n",
      "58\n",
      "59\n",
      "FizzBuzz\n",
      "61\n",
      "62\n",
      "Fizz\n",
      "64\n",
      "Buzz\n",
      "Fizz\n",
      "67\n",
      "68\n",
      "Fizz\n",
      "Buzz\n",
      "71\n",
      "Fizz\n",
      "73\n",
      "74\n",
      "FizzBuzz\n",
      "76\n",
      "77\n",
      "Fizz\n",
      "79\n",
      "Buzz\n",
      "Fizz\n",
      "82\n",
      "83\n",
      "Fizz\n",
      "Buzz\n",
      "86\n",
      "Fizz\n",
      "88\n",
      "89\n",
      "FizzBuzz\n",
      "91\n",
      "92\n",
      "Fizz\n",
      "94\n",
      "Buzz\n",
      "Fizz\n",
      "97\n",
      "98\n",
      "Fizz\n",
      "Buzz\n"
     ]
    }
   ],
   "source": [
    "# 0 is false 1 is true\n",
    "for i in range(1,101):\n",
    "    string = \"\"\n",
    "    if i % 3 == 0:\n",
    "        string = string + \"Fizz\"\n",
    "\n",
    "    if i % 5 == 0:\n",
    "        string = string + \"Buzz\"\n",
    "    \n",
    "    if i % 3 != 0 and i % 5 != 0:\n",
    "        string = string + str(i)\n",
    "    print(string)"
   ]
  },
  {
   "cell_type": "markdown",
   "id": "600fe38c",
   "metadata": {},
   "source": [
    "## 4.\n",
    "#### Display a table of powers.\n",
    "* Prompt the user to enter an integer\n",
    "* Display a table of squares and cubes from 1 to the value entered\n",
    "* Ask if the user wants to continue\n",
    "* Assume that the user will enter valid data\n",
    "* Only continue if the user agrees to"
   ]
  },
  {
   "cell_type": "code",
   "execution_count": null,
   "id": "223e627a",
   "metadata": {},
   "outputs": [],
   "source": [
    "# What number would you like to go up to? 5\n",
    "\n",
    "# Here is your table!\n",
    "\n",
    "# number | squared | cubed\n",
    "# ------ | ------- | -----\n",
    "# 1      | 1       | 1\n",
    "# 2      | 4       | 8\n",
    "# 3      | 9       | 27\n",
    "# 4      | 16      | 64\n",
    "# 5      | 25      | 125"
   ]
  },
  {
   "cell_type": "code",
   "execution_count": 203,
   "id": "4d45ee23",
   "metadata": {},
   "outputs": [
    {
     "name": "stdout",
     "output_type": "stream",
     "text": [
      "What number would you like to go up to? 5\n",
      "\n",
      "Here is your table!\n",
      "\n",
      "number | squared | cubed\n",
      "------ | ------- | -----\n",
      "     1 |       1 |     1\n",
      "     2 |       4 |     8\n",
      "     3 |       9 |    27\n",
      "     4 |      16 |    64\n",
      "     5 |      25 |   125\n",
      "\n",
      "Continue? yes\n",
      "     1 |       1 |     1\n",
      "     2 |       4 |     8\n",
      "     3 |       9 |    27\n",
      "     4 |      16 |    64\n",
      "     5 |      25 |   125\n",
      "     6 |      36 |   216\n",
      "     7 |      49 |   343\n",
      "     8 |      64 |   512\n",
      "     9 |      81 |   729\n",
      "    10 |     100 |  1000\n"
     ]
    }
   ],
   "source": [
    "num4 = int(input(\"What number would you like to go up to? \"))\n",
    "print()\n",
    "print('{:10}'.format(\"Here is your table!\"))\n",
    "print()\n",
    "print('{:6}'.format(\"number\"),'{:1}'.format('|'),'{:6}'.format(\"squared\"),'{:1}'.format('|'),'{:5}'.format(\"cubed\"))\n",
    "print('{:6}'.format(\"------\"),'{:1}'.format('|'),'{:6}'.format(\"-------\"),'{:1}'.format('|'),'{:5}'.format(\"-----\"))\n",
    "for i in range(1,num4+1):\n",
    "    print('{:6}'.format(i),\n",
    "          '{:1}'.format('|'),\n",
    "          '{:7}'.format(i**2),\n",
    "          '{:1}'.format('|'),\n",
    "          '{:5}'.format(i**3))\n",
    "print()\n",
    "ask = str.lower(input(\"Continue? \"))\n",
    "if ask == str(\"yes\"):\n",
    "    for i in range(1,num4+6):\n",
    "        print('{:6}'.format(i),\n",
    "              '{:1}'.format('|'),\n",
    "              '{:7}'.format(i**2),\n",
    "              '{:1}'.format('|'),\n",
    "              '{:5}'.format(i**3))\n",
    "if ask == str(\"no\"):\n",
    "    print(\"Thank you, goodbye.\")"
   ]
  },
  {
   "cell_type": "markdown",
   "id": "ce3fe12b",
   "metadata": {},
   "source": [
    "## 5.\n",
    "#### Convert given number grades into letter grades.\n",
    "* Prompt the user for a numerical grade from 0 to 100\n",
    "* Display the corresponding letter grade\n",
    "* Prompt the user to continue\n",
    "* Assume that the user will enter valid integers for the grades\n",
    "* The application should only continue if the user agrees to\n",
    "* Grade Ranges:\n",
    "    * A : 100 - 88\n",
    "    * B : 87 - 80\n",
    "    * C : 79 - 67\n",
    "    * D : 66 - 60\n",
    "    * F : 59 - 0"
   ]
  },
  {
   "cell_type": "code",
   "execution_count": 202,
   "id": "28b42a3c",
   "metadata": {},
   "outputs": [
    {
     "name": "stdout",
     "output_type": "stream",
     "text": [
      "Input Numerical Grade: 97\n",
      "\n"
     ]
    },
    {
     "ename": "SyntaxError",
     "evalue": "'break' outside loop (3731729996.py, line 6)",
     "output_type": "error",
     "traceback": [
      "\u001b[0;36m  File \u001b[0;32m\"/var/folders/26/y7jmy96d6tx38pgw7pxw_dpm0000gn/T/ipykernel_33355/3731729996.py\"\u001b[0;36m, line \u001b[0;32m6\u001b[0m\n\u001b[0;31m    break\u001b[0m\n\u001b[0m    ^\u001b[0m\n\u001b[0;31mSyntaxError\u001b[0m\u001b[0;31m:\u001b[0m 'break' outside loop\n"
     ]
    }
   ],
   "source": [
    "num5 = int(input(\"Input Numerical Grade: \"))\n",
    "print()\n",
    "for i in range(0,num5): ##what doin\n",
    "    if i in range (88,100):\n",
    "        print(\"A\")\n",
    "        break\n",
    "    if i <=87 and i >=80:\n",
    "        print(\"B\")\n",
    "        break\n",
    "    if i <=79 and i >=67:\n",
    "        print(\"C\")\n",
    "        break\n",
    "    if i <=66 and i >=60:\n",
    "        print(\"D\")\n",
    "        break\n",
    "    if i <=59 and i >=0:\n",
    "        print(\"F\")\n",
    "        break\n",
    "\n",
    "print()\n",
    "ask = str.lower(input(\"Continue? \"))\n",
    "if ask == str(\"yes\"):\n",
    "    print(\":)\")\n",
    "if ask == str(\"no\"):\n",
    "    print(\"Thank you, goodbye.\")"
   ]
  },
  {
   "cell_type": "code",
   "execution_count": null,
   "id": "4aa0f4d6",
   "metadata": {},
   "outputs": [],
   "source": []
  }
 ],
 "metadata": {
  "kernelspec": {
   "display_name": "Python 3 (ipykernel)",
   "language": "python",
   "name": "python3"
  },
  "language_info": {
   "codemirror_mode": {
    "name": "ipython",
    "version": 3
   },
   "file_extension": ".py",
   "mimetype": "text/x-python",
   "name": "python",
   "nbconvert_exporter": "python",
   "pygments_lexer": "ipython3",
   "version": "3.9.13"
  }
 },
 "nbformat": 4,
 "nbformat_minor": 5
}
